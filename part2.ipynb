{
 "cells": [
  {
   "cell_type": "code",
   "execution_count": 1,
   "metadata": {},
   "outputs": [],
   "source": [
    "import math\n",
    "from tqdm import tqdm\n",
    "import numpy as np\n",
    "import glob\n",
    "import csv\n",
    "import cv2\n",
    "from PIL import Image"
   ]
  },
  {
   "cell_type": "markdown",
   "metadata": {},
   "source": [
    "**Scale down** the road data to form an image of roads with a resolution of around 50m x 50m per pixel  \n",
    "The resulting image is of 656x656 dimentions"
   ]
  },
  {
   "cell_type": "code",
   "execution_count": 66,
   "metadata": {},
   "outputs": [
    {
     "name": "stderr",
     "output_type": "stream",
     "text": [
      "\n",
      "\n",
      "  0%|          | 0/4 [00:00<?, ?it/s]\u001b[A\u001b[A"
     ]
    },
    {
     "name": "stdout",
     "output_type": "stream",
     "text": [
      "Data loading and Management\n"
     ]
    },
    {
     "name": "stderr",
     "output_type": "stream",
     "text": [
      "\n",
      "\n",
      " 25%|██▌       | 1/4 [01:48<05:24, 108.31s/it]\u001b[A\u001b[A\n",
      "\n",
      " 50%|█████     | 2/4 [04:04<03:53, 116.75s/it]\u001b[A\u001b[A\n",
      "\n",
      " 75%|███████▌  | 3/4 [05:46<01:52, 112.32s/it]\u001b[A\u001b[A\n",
      "\n",
      "100%|██████████| 4/4 [08:34<00:00, 128.54s/it]\u001b[A\u001b[A\n"
     ]
    }
   ],
   "source": [
    "print(\"Data loading and Management\")\n",
    "ml_road_dir = \"../ml_preds_csv/\"\n",
    "\n",
    "base_file_name = \"3001120103\"\n",
    "\n",
    "# 82*8 = 656\n",
    "# 164*8 = 1312\n",
    "grid = np.zeros((1312, 1312), dtype=np.uint8)\n",
    "road_coords = dict()\n",
    "\n",
    "# level_a = {'0': (0, 0), '1': (0, 328), '2': (328, 0), '3': (328, 328)}\n",
    "level_a = {'0': (0, 0), '1': (0, 656), '2': (656, 0), '3': (656, 656)}\n",
    "# level_b = {'0': (0, 0), '1': (0, 164), '2': (164, 0), '3': (164, 164)}\n",
    "level_b = {'0': (0, 0), '1': (0, 328), '2': (328, 0), '3': (328, 328)}\n",
    "# level_c = {'0': (0, 0), '1': (0, 82), '2': (82, 0), '3': (82, 82)}\n",
    "level_c = {'0': (0, 0), '1': (0, 164), '2': (164, 0), '3': (164, 164)}\n",
    "for a in tqdm(level_a):\n",
    "    a_i = level_a[a][0]\n",
    "    a_j = level_a[a][1]\n",
    "    for b in level_b:\n",
    "        b_i = a_i + level_b[b][0]\n",
    "        b_j = a_j + level_b[b][1]\n",
    "        for c in level_c:\n",
    "            c_i = b_i + level_c[c][0]\n",
    "            c_j = b_j + level_c[c][1]\n",
    "\n",
    "            # generate files names\n",
    "            file_name = base_file_name + a + b + c + \".csv\"\n",
    "            file_path = ml_road_dir + file_name\n",
    "\n",
    "            with open(file_path, 'r') as csv_file:\n",
    "                reader = csv.reader(csv_file)\n",
    "                first_row = True\n",
    "                for row in reader:\n",
    "                    if first_row:\n",
    "                        first_row = False\n",
    "                        continue\n",
    "\n",
    "                    d_i = int(row[0])\n",
    "                    d_j = int(row[1])\n",
    "\n",
    "                    i = c_i + int(d_i / 50)\n",
    "                    j = c_j + int(d_j / 50)\n",
    "\n",
    "                    grid[i][j] = max(np.uint8(row[2]), grid[i][j])\n",
    "                    if int(row[2]) >= 75 and (i*1312+j not in road_coords or road_coords[i*1312+j][0] < int(row[2])):\n",
    "                            road_coords[i*1312+j] = (int(row[2]), float(row[3]), float(row[4]))\n",
    "                            "
   ]
  },
  {
   "cell_type": "code",
   "execution_count": 69,
   "metadata": {},
   "outputs": [
    {
     "name": "stdout",
     "output_type": "stream",
     "text": [
      "Image Size: (1312, 1312)\n",
      "total pixels:  1721344\n",
      "road pixels: 233706\n"
     ]
    }
   ],
   "source": [
    "grid[grid < 75] = 0\n",
    "img = Image.fromarray(grid)\n",
    "img.show()\n",
    "print(\"Image Size:\", np.shape(grid))\n",
    "print(\"total pixels: \", 1312*1312)\n",
    "print(\"road pixels:\", np.count_nonzero(grid))"
   ]
  },
  {
   "cell_type": "code",
   "execution_count": 70,
   "metadata": {},
   "outputs": [
    {
     "name": "stdout",
     "output_type": "stream",
     "text": [
      "Image Size: (1312, 1312)\n",
      "total pizels:  1721344\n",
      "road pixels: 233706\n"
     ]
    }
   ],
   "source": [
    "roads = grid.copy()\n",
    "roads[roads >= 75] = 1\n",
    "print(\"Image Size:\", np.shape(roads))\n",
    "print(\"total pizels: \", 1312*1312)\n",
    "print(\"road pixels:\", np.count_nonzero(roads))\n",
    "\n",
    "# visited = np.zeros(np.shape(roads))\n",
    "# print(\"Image Size:\", np.shape(visited))\n",
    "# print(\"total pizels: \", 656*656)\n",
    "# print(\"road pixels:\", np.count_nonzero(visited))"
   ]
  },
  {
   "cell_type": "code",
   "execution_count": 71,
   "metadata": {},
   "outputs": [],
   "source": [
    "# load test cases\n",
    "test_cases = []\n",
    "with open(\"../routing_challenge_pairs.csv\", 'r') as csv_file:\n",
    "    reader = csv.reader(csv_file)\n",
    "    for row in reader:\n",
    "        test_cases.append(row)\n",
    "        \n",
    "del test_cases[0]"
   ]
  },
  {
   "cell_type": "code",
   "execution_count": 72,
   "metadata": {},
   "outputs": [],
   "source": [
    "# find the coordinate (i,j) of a lat/long pair in the scaled down image\n",
    "def closest_ij(lati, lngi):\n",
    "    min_dist = 999999\n",
    "    i=0\n",
    "    j=0\n",
    "    lati = float(lati)*100000\n",
    "    lngi = float(lngi)*100000\n",
    "    for coord in road_coords:\n",
    "        lat = float(road_coords[coord][1])*100000\n",
    "        lng = float(road_coords[coord][2])*100000\n",
    "        if min_dist > math.sqrt((lati - lat)**2 + (lngi - lng)**2):\n",
    "            min_dist = math.sqrt((lati - lat)**2 + (lngi - lng)**2)\n",
    "            i = int(coord/1312)\n",
    "            j = int(coord - i*1312)\n",
    "    return i,j"
   ]
  },
  {
   "cell_type": "code",
   "execution_count": 73,
   "metadata": {},
   "outputs": [
    {
     "name": "stdout",
     "output_type": "stream",
     "text": [
      "1: (783, 915)\n",
      "1: 247\n",
      "2: (1124, 836)\n",
      "2: 245\n"
     ]
    }
   ],
   "source": [
    "# An example\n",
    "lat1 = test_cases[0][0]\n",
    "lng1 = test_cases[0][1]\n",
    "i1,j1 = closest_ij(lat1, lng1)\n",
    "print(\"1:\",(i1,j1))\n",
    "print(\"1:\", grid[i1][j1])\n",
    "\n",
    "lat2 = test_cases[0][2]\n",
    "lng2 = test_cases[0][3]\n",
    "i2,j2 = closest_ij(lat2, lng2)\n",
    "print(\"2:\",(i2, j2))\n",
    "print(\"2:\", grid[i2][j2])"
   ]
  },
  {
   "cell_type": "markdown",
   "metadata": {},
   "source": [
    "Apply **Breath First Search (BFS)** to calculate the minimum number of road pixels between the two image pixels  \n",
    "If no path is found, return -1"
   ]
  },
  {
   "cell_type": "code",
   "execution_count": 74,
   "metadata": {},
   "outputs": [],
   "source": [
    "def BFS(i1, j1, i2, j2):\n",
    "    visited = np.zeros(np.shape(roads))\n",
    "    queue = []\n",
    "    queue.append((0, i1, j1))\n",
    "    visited[i1][j1] = 1\n",
    "    front = 0\n",
    "    kernel = [-1,0,1]\n",
    "    while front != len(queue):\n",
    "        (d, i, j) = queue[front]\n",
    "        front += 1\n",
    "        if i==i2 and j==j2:\n",
    "            return d\n",
    "        \n",
    "        for p in kernel:\n",
    "            for q in kernel:\n",
    "                if 0<= i+p < 1312 and 0<= j+q < 1312 and roads[i+p][j+q] != 0 and visited[i+p][j+q] == 0:\n",
    "                    queue.append((d+1, i+p, j+q))\n",
    "                    visited[i+p][j+q] = 1\n",
    "                    \n",
    "    return -1"
   ]
  },
  {
   "cell_type": "code",
   "execution_count": 77,
   "metadata": {},
   "outputs": [
    {
     "data": {
      "text/plain": [
       "11825"
      ]
     },
     "execution_count": 77,
     "metadata": {},
     "output_type": "execute_result"
    }
   ],
   "source": [
    "# test a sample\n",
    "dist = BFS(783, 915, 1124, 836)\n",
    "dist*25"
   ]
  },
  {
   "cell_type": "code",
   "execution_count": 78,
   "metadata": {},
   "outputs": [
    {
     "data": {
      "text/plain": [
       "1.6028889820468648"
      ]
     },
     "execution_count": 78,
     "metadata": {},
     "output_type": "execute_result"
    }
   ],
   "source": [
    "expected = 0\n",
    "for degree in range(5, 46, 5):\n",
    "    rad1 = degree * math.pi / 180\n",
    "    rad2 = (degree-5) * math.pi / 180\n",
    "    expected += 2*(1/math.cos(rad1))*(math.sin(rad1) - math.sin(rad2))\n",
    "expected"
   ]
  },
  {
   "cell_type": "code",
   "execution_count": null,
   "metadata": {},
   "outputs": [
    {
     "name": "stderr",
     "output_type": "stream",
     "text": [
      "\n",
      "\n",
      "\n",
      "  0%|          | 0/1000 [00:00<?, ?it/s]\u001b[A\u001b[A\u001b[A\n",
      "\n",
      "\n",
      "  0%|          | 1/1000 [00:02<33:41,  2.02s/it]\u001b[A\u001b[A\u001b[A\n",
      "\n",
      "\n",
      "  0%|          | 2/1000 [00:03<30:29,  1.83s/it]\u001b[A\u001b[A\u001b[A\n",
      "\n",
      "\n",
      "  0%|          | 3/1000 [00:03<24:04,  1.45s/it]\u001b[A\u001b[A\u001b[A\n",
      "\n",
      "\n",
      "  0%|          | 4/1000 [00:05<23:25,  1.41s/it]\u001b[A\u001b[A\u001b[A\n",
      "\n",
      "\n",
      "  0%|          | 5/1000 [00:06<22:49,  1.38s/it]\u001b[A\u001b[A\u001b[A\n",
      "\n",
      "\n",
      "  1%|          | 6/1000 [00:10<33:04,  2.00s/it]\u001b[A\u001b[A\u001b[A\n",
      "\n",
      "\n",
      "  1%|          | 7/1000 [00:10<24:22,  1.47s/it]\u001b[A\u001b[A\u001b[A\n",
      "\n",
      "\n",
      "  1%|          | 8/1000 [00:12<29:43,  1.80s/it]\u001b[A\u001b[A\u001b[A\n",
      "\n",
      "\n",
      "  1%|          | 9/1000 [00:15<32:06,  1.94s/it]\u001b[A\u001b[A\u001b[A\n",
      "\n",
      "\n",
      "  1%|          | 10/1000 [00:17<36:01,  2.18s/it]\u001b[A\u001b[A\u001b[A\n",
      "\n",
      "\n",
      "  1%|          | 11/1000 [00:18<26:29,  1.61s/it]\u001b[A\u001b[A\u001b[A\n",
      "\n",
      "\n",
      "  1%|          | 12/1000 [00:19<25:03,  1.52s/it]\u001b[A\u001b[A\u001b[A\n",
      "\n",
      "\n",
      "  1%|▏         | 13/1000 [00:22<30:23,  1.85s/it]\u001b[A\u001b[A\u001b[A\n",
      "\n",
      "\n",
      "  1%|▏         | 14/1000 [00:24<31:13,  1.90s/it]\u001b[A\u001b[A\u001b[A\n",
      "\n",
      "\n",
      "  2%|▏         | 15/1000 [00:25<27:38,  1.68s/it]\u001b[A\u001b[A\u001b[A\n",
      "\n",
      "\n",
      "  2%|▏         | 16/1000 [00:26<23:43,  1.45s/it]\u001b[A\u001b[A\u001b[A\n",
      "\n",
      "\n",
      "  2%|▏         | 17/1000 [00:28<26:04,  1.59s/it]\u001b[A\u001b[A\u001b[A\n",
      "\n",
      "\n",
      "  2%|▏         | 18/1000 [00:30<32:15,  1.97s/it]\u001b[A\u001b[A\u001b[A\n",
      "\n",
      "\n",
      "  2%|▏         | 19/1000 [00:31<26:50,  1.64s/it]\u001b[A\u001b[A\u001b[A\n",
      "\n",
      "\n",
      "  2%|▏         | 20/1000 [00:35<34:50,  2.13s/it]\u001b[A\u001b[A\u001b[A\n",
      "\n",
      "\n",
      "  2%|▏         | 21/1000 [00:35<27:59,  1.72s/it]\u001b[A\u001b[A\u001b[A\n",
      "\n",
      "\n",
      "  2%|▏         | 22/1000 [00:39<35:45,  2.19s/it]\u001b[A\u001b[A\u001b[A\n",
      "\n",
      "\n",
      "  2%|▏         | 23/1000 [00:41<38:39,  2.37s/it]\u001b[A\u001b[A\u001b[A\n",
      "\n",
      "\n",
      "  2%|▏         | 24/1000 [00:42<31:37,  1.94s/it]\u001b[A\u001b[A\u001b[A\n",
      "\n",
      "\n",
      "  2%|▎         | 25/1000 [00:44<31:41,  1.95s/it]\u001b[A\u001b[A\u001b[A\n",
      "\n",
      "\n",
      "  3%|▎         | 26/1000 [00:47<35:48,  2.21s/it]\u001b[A\u001b[A\u001b[A\n",
      "\n",
      "\n",
      "  3%|▎         | 27/1000 [00:50<40:07,  2.47s/it]\u001b[A\u001b[A\u001b[A\n",
      "\n",
      "\n",
      "  3%|▎         | 28/1000 [00:51<30:04,  1.86s/it]\u001b[A\u001b[A\u001b[A\n",
      "\n",
      "\n",
      "  3%|▎         | 29/1000 [00:54<35:10,  2.17s/it]\u001b[A\u001b[A\u001b[A\n",
      "\n",
      "\n",
      "  3%|▎         | 30/1000 [00:55<33:07,  2.05s/it]\u001b[A\u001b[A\u001b[A\n",
      "\n",
      "\n",
      "  3%|▎         | 31/1000 [00:57<29:33,  1.83s/it]\u001b[A\u001b[A\u001b[A\n",
      "\n",
      "\n",
      "  3%|▎         | 32/1000 [00:57<21:55,  1.36s/it]\u001b[A\u001b[A\u001b[A\n",
      "\n",
      "\n",
      "  3%|▎         | 33/1000 [01:00<32:39,  2.03s/it]\u001b[A\u001b[A\u001b[A\n",
      "\n",
      "\n",
      "  3%|▎         | 34/1000 [01:04<39:56,  2.48s/it]\u001b[A\u001b[A\u001b[A\n",
      "\n",
      "\n",
      "  4%|▎         | 35/1000 [01:05<31:14,  1.94s/it]\u001b[A\u001b[A\u001b[A\n",
      "\n",
      "\n",
      "  4%|▎         | 36/1000 [01:08<38:38,  2.41s/it]\u001b[A\u001b[A\u001b[A\n",
      "\n",
      "\n",
      "  4%|▎         | 37/1000 [01:09<30:39,  1.91s/it]\u001b[A\u001b[A\u001b[A\n",
      "\n",
      "\n",
      "  4%|▍         | 38/1000 [01:12<37:45,  2.35s/it]\u001b[A\u001b[A\u001b[A\n",
      "\n",
      "\n",
      "  4%|▍         | 39/1000 [01:16<43:38,  2.72s/it]\u001b[A\u001b[A\u001b[A\n",
      "\n",
      "\n",
      "  4%|▍         | 40/1000 [01:18<39:51,  2.49s/it]\u001b[A\u001b[A\u001b[A\n",
      "\n",
      "\n",
      "  4%|▍         | 41/1000 [01:19<33:55,  2.12s/it]\u001b[A\u001b[A\u001b[A\n",
      "\n",
      "\n",
      "  4%|▍         | 42/1000 [01:19<24:57,  1.56s/it]\u001b[A\u001b[A\u001b[A\n",
      "\n",
      "\n",
      "  4%|▍         | 43/1000 [01:20<18:51,  1.18s/it]\u001b[A\u001b[A\u001b[A\n",
      "\n",
      "\n",
      "  4%|▍         | 44/1000 [01:21<21:13,  1.33s/it]\u001b[A\u001b[A\u001b[A\n",
      "\n",
      "\n",
      "  4%|▍         | 45/1000 [01:25<30:36,  1.92s/it]\u001b[A\u001b[A\u001b[A"
     ]
    }
   ],
   "source": [
    "output_file = open(\"../results/results_part2_50\", 'w')\n",
    "csv_writer = csv.writer(output_file)\n",
    "csv_writer.writerow([\"latitude_src\", \"longitude_src\", \"latitude_dst\", \"longitude_dst\", \"distance\"])\n",
    "num_faults = 0\n",
    "for case in tqdm(test_cases):\n",
    "    lat1 = case[0]\n",
    "    lng1 = case[1]\n",
    "    i1,j1 = closest_ij(lat1, lng1)\n",
    "\n",
    "    lat2 = case[2]\n",
    "    lng2 = case[3]\n",
    "    i2,j2 = closest_ij(lat2, lng2)\n",
    "    \n",
    "    dist = BFS(i1, j1, i2, j2)\n",
    "    \n",
    "    if dist != -1:\n",
    "        dist = dist*25\n",
    "    else:\n",
    "        num_faults += 1\n",
    "        \n",
    "    csv_writer.writerow([lat1, lng1, lat2, lng2, str(dist)])\n",
    "output_file.close()\n",
    "print(\"Number of faults:\", num_faults)"
   ]
  },
  {
   "cell_type": "code",
   "execution_count": 59,
   "metadata": {},
   "outputs": [
    {
     "data": {
      "text/plain": [
       "3.141592653589793"
      ]
     },
     "execution_count": 59,
     "metadata": {},
     "output_type": "execute_result"
    }
   ],
   "source": [
    "math.pi"
   ]
  },
  {
   "cell_type": "code",
   "execution_count": 65,
   "metadata": {},
   "outputs": [
    {
     "data": {
      "text/plain": [
       "656.0"
      ]
     },
     "execution_count": 65,
     "metadata": {},
     "output_type": "execute_result"
    }
   ],
   "source": [
    "1312/2"
   ]
  },
  {
   "cell_type": "code",
   "execution_count": null,
   "metadata": {},
   "outputs": [],
   "source": []
  }
 ],
 "metadata": {
  "kernelspec": {
   "display_name": "Python 3",
   "language": "python",
   "name": "python3"
  },
  "language_info": {
   "codemirror_mode": {
    "name": "ipython",
    "version": 3
   },
   "file_extension": ".py",
   "mimetype": "text/x-python",
   "name": "python",
   "nbconvert_exporter": "python",
   "pygments_lexer": "ipython3",
   "version": "3.6.7"
  }
 },
 "nbformat": 4,
 "nbformat_minor": 2
}
