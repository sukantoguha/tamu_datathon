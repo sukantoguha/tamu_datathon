{
 "cells": [
  {
   "cell_type": "code",
   "execution_count": 1,
   "metadata": {},
   "outputs": [],
   "source": [
    "import math\n",
    "from tqdm import tqdm\n",
    "import numpy as np\n",
    "import glob\n",
    "import csv\n",
    "import cv2\n",
    "from PIL import Image"
   ]
  },
  {
   "cell_type": "code",
   "execution_count": 11,
   "metadata": {},
   "outputs": [
    {
     "name": "stderr",
     "output_type": "stream",
     "text": [
      "\r",
      "  0%|          | 0/4 [00:00<?, ?it/s]"
     ]
    },
    {
     "name": "stdout",
     "output_type": "stream",
     "text": [
      "Data loading and Management\n"
     ]
    },
    {
     "name": "stderr",
     "output_type": "stream",
     "text": [
      "100%|██████████| 4/4 [08:43<00:00, 131.00s/it]\n"
     ]
    }
   ],
   "source": [
    "print(\"Data loading and Management\")\n",
    "ml_road_dir = \"../ml_preds_csv/\"\n",
    "\n",
    "base_file_name = \"3001120103\"\n",
    "\n",
    "# 82*8 = 656\n",
    "grid = np.zeros((656, 656), dtype=np.uint8)\n",
    "road_coords = dict()\n",
    "\n",
    "level_a = {'0': (0, 0), '1': (0, 328), '2': (328, 0), '3': (328, 328)}\n",
    "level_b = {'0': (0, 0), '1': (0, 164), '2': (164, 0), '3': (164, 164)}\n",
    "level_c = {'0': (0, 0), '1': (0, 82), '2': (82, 0), '3': (82, 82)}\n",
    "for a in tqdm(level_a):\n",
    "    a_i = level_a[a][0]\n",
    "    a_j = level_a[a][1]\n",
    "    for b in level_b:\n",
    "        b_i = a_i + level_b[b][0]\n",
    "        b_j = a_j + level_b[b][1]\n",
    "        for c in level_c:\n",
    "            c_i = b_i + level_c[c][0]\n",
    "            c_j = b_j + level_c[c][1]\n",
    "\n",
    "            # generate files names\n",
    "            file_name = base_file_name + a + b + c + \".csv\"\n",
    "            file_path = ml_road_dir + file_name\n",
    "\n",
    "            with open(file_path, 'r') as csv_file:\n",
    "                reader = csv.reader(csv_file)\n",
    "                first_row = True\n",
    "                for row in reader:\n",
    "                    if first_row:\n",
    "                        first_row = False\n",
    "                        continue\n",
    "\n",
    "                    d_i = int(row[0])\n",
    "                    d_j = int(row[1])\n",
    "\n",
    "                    i = c_i + int(d_i / 100)\n",
    "                    j = c_j + int(d_j / 100)\n",
    "\n",
    "                    grid[i][j] = max(np.uint8(row[2]), grid[i][j])\n",
    "                    if int(row[2]) >= 75 and (i*656+j not in road_coords or road_coords[i*656+j][0] < int(row[2])):\n",
    "                            road_coords[i*656+j] = (int(row[2]), float(row[3]), float(row[4]))\n",
    "                            "
   ]
  },
  {
   "cell_type": "code",
   "execution_count": 4,
   "metadata": {},
   "outputs": [],
   "source": [
    "grid[grid < 75] = 0\n",
    "img = Image.fromarray(grid)\n",
    "img.show()"
   ]
  },
  {
   "cell_type": "code",
   "execution_count": 8,
   "metadata": {},
   "outputs": [
    {
     "name": "stdout",
     "output_type": "stream",
     "text": [
      "Image Size: (656, 656)\n",
      "total pizels:  430336\n",
      "road pixels: 105923\n"
     ]
    }
   ],
   "source": [
    "print(\"Image Size:\", np.shape(grid))\n",
    "print(\"total pizels: \", 656*656)\n",
    "print(\"road pixels:\", np.count_nonzero(grid))"
   ]
  },
  {
   "cell_type": "code",
   "execution_count": 9,
   "metadata": {},
   "outputs": [],
   "source": [
    "roads = grid.copy()\n",
    "roads[roads >= 75] = 1"
   ]
  },
  {
   "cell_type": "code",
   "execution_count": null,
   "metadata": {},
   "outputs": [],
   "source": []
  }
 ],
 "metadata": {
  "kernelspec": {
   "display_name": "Python 3",
   "language": "python",
   "name": "python3"
  },
  "language_info": {
   "codemirror_mode": {
    "name": "ipython",
    "version": 3
   },
   "file_extension": ".py",
   "mimetype": "text/x-python",
   "name": "python",
   "nbconvert_exporter": "python",
   "pygments_lexer": "ipython3",
   "version": "3.6.7"
  }
 },
 "nbformat": 4,
 "nbformat_minor": 2
}
